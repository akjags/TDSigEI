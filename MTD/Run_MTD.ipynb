{
 "cells": [
  {
   "cell_type": "code",
   "execution_count": 1,
   "metadata": {
    "collapsed": false
   },
   "outputs": [
    {
     "name": "stdout",
     "output_type": "stream",
     "text": [
      "Populating the interactive namespace from numpy and matplotlib\n"
     ]
    }
   ],
   "source": [
    "%pylab inline\n",
    "from __future__ import print_function, division\n",
    "import numpy as np\n",
    "import pandas as pd\n",
    "import matplotlib.pyplot as plt\n",
    "#import scipy.stats\n",
    "from MTD import *\n",
    "import brewer2mpl\n",
    "from scipy.stats.mstats import zscore as zscore"
   ]
  },
  {
   "cell_type": "code",
   "execution_count": 3,
   "metadata": {
    "collapsed": false,
    "scrolled": true
   },
   "outputs": [
    {
     "data": {
      "text/html": [
       "<div>\n",
       "<table border=\"1\" class=\"dataframe\">\n",
       "  <thead>\n",
       "    <tr style=\"text-align: right;\">\n",
       "      <th></th>\n",
       "      <th>Time</th>\n",
       "      <th>Subject</th>\n",
       "      <th>Condition</th>\n",
       "      <th>Dataset</th>\n",
       "      <th>Run</th>\n",
       "      <th>FFA</th>\n",
       "      <th>PPA</th>\n",
       "      <th>VC</th>\n",
       "    </tr>\n",
       "  </thead>\n",
       "  <tbody>\n",
       "    <tr>\n",
       "      <th>0</th>\n",
       "      <td>1</td>\n",
       "      <td>512</td>\n",
       "      <td>FH</td>\n",
       "      <td>FIR</td>\n",
       "      <td>1</td>\n",
       "      <td>-0.260637</td>\n",
       "      <td>0.068294</td>\n",
       "      <td>-0.214295</td>\n",
       "    </tr>\n",
       "    <tr>\n",
       "      <th>1</th>\n",
       "      <td>2</td>\n",
       "      <td>512</td>\n",
       "      <td>FH</td>\n",
       "      <td>FIR</td>\n",
       "      <td>1</td>\n",
       "      <td>-0.198729</td>\n",
       "      <td>0.217280</td>\n",
       "      <td>-0.404957</td>\n",
       "    </tr>\n",
       "    <tr>\n",
       "      <th>2</th>\n",
       "      <td>3</td>\n",
       "      <td>512</td>\n",
       "      <td>FH</td>\n",
       "      <td>FIR</td>\n",
       "      <td>1</td>\n",
       "      <td>-0.274314</td>\n",
       "      <td>-0.397993</td>\n",
       "      <td>-1.028810</td>\n",
       "    </tr>\n",
       "    <tr>\n",
       "      <th>3</th>\n",
       "      <td>4</td>\n",
       "      <td>512</td>\n",
       "      <td>FH</td>\n",
       "      <td>FIR</td>\n",
       "      <td>1</td>\n",
       "      <td>-0.327794</td>\n",
       "      <td>-0.277384</td>\n",
       "      <td>-0.317825</td>\n",
       "    </tr>\n",
       "    <tr>\n",
       "      <th>4</th>\n",
       "      <td>5</td>\n",
       "      <td>512</td>\n",
       "      <td>FH</td>\n",
       "      <td>FIR</td>\n",
       "      <td>1</td>\n",
       "      <td>0.123660</td>\n",
       "      <td>-0.433729</td>\n",
       "      <td>-0.268533</td>\n",
       "    </tr>\n",
       "  </tbody>\n",
       "</table>\n",
       "</div>"
      ],
      "text/plain": [
       "   Time Subject Condition Dataset  Run       FFA       PPA        VC\n",
       "0     1     512        FH     FIR    1 -0.260637  0.068294 -0.214295\n",
       "1     2     512        FH     FIR    1 -0.198729  0.217280 -0.404957\n",
       "2     3     512        FH     FIR    1 -0.274314 -0.397993 -1.028810\n",
       "3     4     512        FH     FIR    1 -0.327794 -0.277384 -0.317825\n",
       "4     5     512        FH     FIR    1  0.123660 -0.433729 -0.268533"
      ]
     },
     "execution_count": 3,
     "metadata": {},
     "output_type": "execute_result"
    }
   ],
   "source": [
    "#read data\n",
    "%run dataframe_ts.py\n",
    "#TS_df = pd.read_csv('../Data/TS_FIRReg_df.csv')\n",
    "TS_df.head()"
   ]
  },
  {
   "cell_type": "code",
   "execution_count": 4,
   "metadata": {
    "collapsed": false
   },
   "outputs": [
    {
     "name": "stderr",
     "output_type": "stream",
     "text": [
      "MTD.py:46: FutureWarning: pd.rolling_mean is deprecated for ndarrays and will be removed in a future version\n",
      "  sma = pd.rolling_mean(temp,window, center = True)\n",
      "/srv/local/anaconda-2.4.0/lib/python2.7/site-packages/ipykernel/__main__.py:40: FutureWarning: pd.rolling_mean is deprecated for ndarrays and will be removed in a future version\n",
      "/srv/local/anaconda-2.4.0/lib/python2.7/site-packages/ipykernel/__main__.py:44: FutureWarning: pd.rolling_mean is deprecated for ndarrays and will be removed in a future version\n"
     ]
    }
   ],
   "source": [
    "Subjects = [503,505,508,509,510,512,513,516,517,518,519,523,527,528,529,530,531,532,534,536,537,539,540,542,546,547,549,550]\n",
    "Conditions = ['FH', 'Fp', 'HF', 'Hp']\n",
    "#MotorMapping = [1, 2]\n",
    "corr_df = pd.DataFrame(columns=['Subj', 'Condition', 'Run','Window', 'MTD-FFA-VC', 'MTD-PPA-VC', 'corr-FFA-VC', 'corr-PPA-VC'], dtype=float)\n",
    "#'Run', 'FFA-M','FFA-NM', 'PPA-M', 'PPA-NM',\n",
    "Runs = [1, 2, 3, 4]\n",
    "#motor mapping 1, RH-Face LH-Scene\n",
    "#motor mapping 2, RH-Scene, LH-Face\n",
    "\n",
    "# block start times and TRs:\n",
    "# 1.50 42.00 82.50 121.50\n",
    "# 0, 27, 54, 80\n",
    "TR_index = np.arange(0,98)\n",
    "TR_index[TR_index!=0] == False \n",
    "TR_index[0:12] = True\n",
    "TR_index[24:39] = True\n",
    "TR_index[51:66] = True\n",
    "TR_index[80:92] = True\n",
    "\n",
    "i=1\n",
    "for s, sub in enumerate(Subjects):\n",
    "    for c, cond in enumerate(Conditions):\n",
    "        for run in Runs:\n",
    "            PPA_ts = np.array(TS_df[(TS_df['Subject'] == str(sub)) & (TS_df['Condition'] == cond) & (TS_df['Run'] == run)]['PPA'])\n",
    "            FFA_ts = np.array(TS_df[(TS_df['Subject'] == str(sub)) & (TS_df['Condition'] == cond) & (TS_df['Run'] == run)]['FFA'])\n",
    "            VC_ts = np.array(TS_df[(TS_df['Subject'] == str(sub)) & (TS_df['Condition'] == cond) & (TS_df['Run'] == run)]['VC'])\n",
    "            \n",
    "            #cal coupling\n",
    "            #cfv = np.corrcoef(np.array([FFA_ts, VC_ts]))[0,1]\n",
    "            #cfp = np.corrcoef(np.array([PPA_ts, VC_ts]))[0,1]\n",
    "            \n",
    "            for w in np.arange(1,25):\n",
    "                corr_df.loc[i, 'Condition'] = cond\n",
    "                corr_df.loc[i, 'Subj'] = sub\n",
    "                corr_df.loc[i, 'Run'] = run\n",
    "                corr_df.loc[i, 'Window'] = w\n",
    "                corr_df.loc[i,'MTD-FFA-VC'] = np.nanmean(coupling(np.array([FFA_ts, VC_ts]).T, w)[1][:,0,1][TR_index])\n",
    "                corr_df.loc[i,'MTD-PPA-VC'] = np.nanmean(coupling(np.array([PPA_ts, VC_ts]).T, w)[1][:,0,1][TR_index])\n",
    "                \n",
    "                sT = pd.rolling_mean(np.array([FFA_ts, VC_ts]).T,w, center = True)\n",
    "                sT[np.isnan(sT)] = 0\n",
    "                corr_df.loc[i,'corr-FFA-VC'] = np.corrcoef(sT.T)[0,1]\n",
    "                \n",
    "                sT = pd.rolling_mean(np.array([PPA_ts, VC_ts]).T,w, center = True)\n",
    "                sT[np.isnan(sT)] = 0\n",
    "                corr_df.loc[i,'corr-PPA-VC'] = np.corrcoef(sT.T)[0,1]\n",
    "                \n",
    "                i = i+1"
   ]
  },
  {
   "cell_type": "code",
   "execution_count": 18,
   "metadata": {
    "collapsed": false
   },
   "outputs": [
    {
     "data": {
      "text/html": [
       "<div>\n",
       "<table border=\"1\" class=\"dataframe\">\n",
       "  <thead>\n",
       "    <tr style=\"text-align: right;\">\n",
       "      <th></th>\n",
       "      <th>Condition</th>\n",
       "      <th>Window</th>\n",
       "      <th>Subj</th>\n",
       "      <th>Run</th>\n",
       "      <th>MTD-FFA-VC</th>\n",
       "      <th>MTD-PPA-VC</th>\n",
       "      <th>corr-FFA-VC</th>\n",
       "      <th>corr-PPA-VC</th>\n",
       "    </tr>\n",
       "  </thead>\n",
       "  <tbody>\n",
       "    <tr>\n",
       "      <th>0</th>\n",
       "      <td>FH</td>\n",
       "      <td>1.0</td>\n",
       "      <td>526.785714</td>\n",
       "      <td>2.5</td>\n",
       "      <td>0.283157</td>\n",
       "      <td>0.055588</td>\n",
       "      <td>0.251998</td>\n",
       "      <td>0.054139</td>\n",
       "    </tr>\n",
       "    <tr>\n",
       "      <th>1</th>\n",
       "      <td>FH</td>\n",
       "      <td>2.0</td>\n",
       "      <td>526.785714</td>\n",
       "      <td>2.5</td>\n",
       "      <td>0.297224</td>\n",
       "      <td>0.089876</td>\n",
       "      <td>0.267131</td>\n",
       "      <td>0.052200</td>\n",
       "    </tr>\n",
       "    <tr>\n",
       "      <th>2</th>\n",
       "      <td>FH</td>\n",
       "      <td>3.0</td>\n",
       "      <td>526.785714</td>\n",
       "      <td>2.5</td>\n",
       "      <td>0.285835</td>\n",
       "      <td>0.094431</td>\n",
       "      <td>0.274871</td>\n",
       "      <td>0.049880</td>\n",
       "    </tr>\n",
       "    <tr>\n",
       "      <th>3</th>\n",
       "      <td>FH</td>\n",
       "      <td>4.0</td>\n",
       "      <td>526.785714</td>\n",
       "      <td>2.5</td>\n",
       "      <td>0.239140</td>\n",
       "      <td>0.097317</td>\n",
       "      <td>0.278674</td>\n",
       "      <td>0.055266</td>\n",
       "    </tr>\n",
       "    <tr>\n",
       "      <th>4</th>\n",
       "      <td>FH</td>\n",
       "      <td>5.0</td>\n",
       "      <td>526.785714</td>\n",
       "      <td>2.5</td>\n",
       "      <td>0.237316</td>\n",
       "      <td>0.095761</td>\n",
       "      <td>0.277349</td>\n",
       "      <td>0.064639</td>\n",
       "    </tr>\n",
       "  </tbody>\n",
       "</table>\n",
       "</div>"
      ],
      "text/plain": [
       "  Condition  Window        Subj  Run  MTD-FFA-VC  MTD-PPA-VC  corr-FFA-VC  \\\n",
       "0        FH     1.0  526.785714  2.5    0.283157    0.055588     0.251998   \n",
       "1        FH     2.0  526.785714  2.5    0.297224    0.089876     0.267131   \n",
       "2        FH     3.0  526.785714  2.5    0.285835    0.094431     0.274871   \n",
       "3        FH     4.0  526.785714  2.5    0.239140    0.097317     0.278674   \n",
       "4        FH     5.0  526.785714  2.5    0.237316    0.095761     0.277349   \n",
       "\n",
       "   corr-PPA-VC  \n",
       "0     0.054139  \n",
       "1     0.052200  \n",
       "2     0.049880  \n",
       "3     0.055266  \n",
       "4     0.064639  "
      ]
     },
     "execution_count": 18,
     "metadata": {},
     "output_type": "execute_result"
    }
   ],
   "source": [
    "stat_df = corr_df.groupby(['Subj','Condition','Window']).mean().reset_index()\n",
    "#stat_df.head()\n",
    "\n",
    "mean_df = stat_df.groupby(['Condition','Window']).mean().reset_index()\n",
    "sem_df = stat_df.groupby(['Condition','Window']).sem().reset_index()\n",
    "mean_df.head()\n",
    "#sem_df.head()"
   ]
  },
  {
   "cell_type": "code",
   "execution_count": 33,
   "metadata": {
    "collapsed": false,
    "scrolled": true
   },
   "outputs": [
    {
     "data": {
      "text/plain": [
       "<matplotlib.figure.Figure at 0x7f3f34861e10>"
      ]
     },
     "metadata": {},
     "output_type": "display_data"
    },
    {
     "data": {
      "image/png": "[encoded data removed]",
      "text/plain": [
       "<matplotlib.figure.Figure at 0x7f3f31ea13d0>"
      ]
     },
     "metadata": {},
     "output_type": "display_data"
    }
   ],
   "source": [
    "plt.rc('xtick', labelsize=16)  \n",
    "plt.rc('ytick', labelsize=16) \n",
    "ROIpairs = ['corr-FFA-VC', 'corr-PPA-VC']\n",
    "Conditions =['FH', 'Fp', 'Hp', 'HF']\n",
    "Labels = ['Face with scene distractor', 'Passively viewing faces ', 'Passively viewing scenes', 'Scene with face distractor']\n",
    "x = np.arange(1,25)\n",
    "#get colormap\n",
    "cmap = brewer2mpl.get_map('RdBu','diverging', 4)\n",
    "plt.figure(1)\n",
    "plt.figure(figsize=(9,6))\n",
    "#plt.suptitle('FIR regression', fontsize=14, fontweight='bold')\n",
    "for r, roi in enumerate(ROIpairs):\n",
    "    ax=plt.subplot(1, 2, r+1)\n",
    "    \n",
    "    for i, c in enumerate(Conditions):\n",
    "        y = np.array(mean_df[(mean_df['Condition'] == c)][roi])\n",
    "        error = np.array(sem_df[(mean_df['Condition'] == c)][roi])\n",
    "        plt.plot(x, y, color = cmap.hex_colors[i], linewidth=5  )\n",
    "        #ax.set_title(roi)\n",
    "        plt.fill_between(x, y-0.8*error, y+0.8*error, alpha=0.2, edgecolor=cmap.hex_colors[i], \n",
    "                     facecolor=cmap.hex_colors[i], label=c)\n",
    "\n",
    "        #plt.ylim(-0.1,0.3)\n",
    "        plt.xlim(1, 25)\n",
    "        plt.xlabel('smoothing window size', fontsize=16)\n",
    "#plt.legend(Labels, fontsize=14, loc='outside', bbox_to_anchor=(1, 1))\n",
    "#plt.show()\n",
    "plt.savefig('/home/despoB/kaihwang/bin/TDSigEI/FIRreg_MTD_v_corr_lags1-25.pdf',bbox_inches='tight')"
   ]
  },
  {
   "cell_type": "code",
   "execution_count": 39,
   "metadata": {
    "collapsed": false,
    "scrolled": true
   },
   "outputs": [],
   "source": [
    "stat_df.groupby(['Condition','Subj']).mean().reset_index().to_csv('/home/despoB/kaihwang/bin/TDSigEI/Data/conn.csv')"
   ]
  },
  {
   "cell_type": "code",
   "execution_count": 2,
   "metadata": {
    "collapsed": false
   },
   "outputs": [],
   "source": [
    "%run dataframe_MTD_b.py"
   ]
  },
  {
   "cell_type": "code",
   "execution_count": 4,
   "metadata": {
    "collapsed": false
   },
   "outputs": [
    {
     "data": {
      "text/html": [
       "<div>\n",
       "<table border=\"1\" class=\"dataframe\">\n",
       "  <thead>\n",
       "    <tr style=\"text-align: right;\">\n",
       "      <th></th>\n",
       "      <th>W</th>\n",
       "      <th>Subject</th>\n",
       "      <th>beta</th>\n",
       "    </tr>\n",
       "  </thead>\n",
       "  <tbody>\n",
       "    <tr>\n",
       "      <th>0</th>\n",
       "      <td>5</td>\n",
       "      <td>512</td>\n",
       "      <td>-0.022484</td>\n",
       "    </tr>\n",
       "    <tr>\n",
       "      <th>1</th>\n",
       "      <td>7</td>\n",
       "      <td>512</td>\n",
       "      <td>-0.021283</td>\n",
       "    </tr>\n",
       "    <tr>\n",
       "      <th>2</th>\n",
       "      <td>9</td>\n",
       "      <td>512</td>\n",
       "      <td>-0.039176</td>\n",
       "    </tr>\n",
       "    <tr>\n",
       "      <th>3</th>\n",
       "      <td>11</td>\n",
       "      <td>512</td>\n",
       "      <td>-0.037256</td>\n",
       "    </tr>\n",
       "    <tr>\n",
       "      <th>4</th>\n",
       "      <td>13</td>\n",
       "      <td>512</td>\n",
       "      <td>-0.051605</td>\n",
       "    </tr>\n",
       "  </tbody>\n",
       "</table>\n",
       "</div>"
      ],
      "text/plain": [
       "    W Subject      beta\n",
       "0   5     512 -0.022484\n",
       "1   7     512 -0.021283\n",
       "2   9     512 -0.039176\n",
       "3  11     512 -0.037256\n",
       "4  13     512 -0.051605"
      ]
     },
     "execution_count": 4,
     "metadata": {},
     "output_type": "execute_result"
    }
   ],
   "source": [
    "TS_df.head()"
   ]
  },
  {
   "cell_type": "code",
   "execution_count": 8,
   "metadata": {
    "collapsed": false
   },
   "outputs": [],
   "source": [
    "mean_df = TS_df.groupby(['W']).mean()\n",
    "sd_Df =TS_df.groupby(['W']).sem()"
   ]
  },
  {
   "cell_type": "code",
   "execution_count": 13,
   "metadata": {
    "collapsed": false
   },
   "outputs": [
    {
     "data": {
      "text/html": [
       "<div>\n",
       "<table border=\"1\" class=\"dataframe\">\n",
       "  <thead>\n",
       "    <tr style=\"text-align: right;\">\n",
       "      <th></th>\n",
       "      <th>beta</th>\n",
       "    </tr>\n",
       "    <tr>\n",
       "      <th>W</th>\n",
       "      <th></th>\n",
       "    </tr>\n",
       "  </thead>\n",
       "  <tbody>\n",
       "    <tr>\n",
       "      <th>5</th>\n",
       "      <td>-0.009368</td>\n",
       "    </tr>\n",
       "    <tr>\n",
       "      <th>7</th>\n",
       "      <td>-0.015038</td>\n",
       "    </tr>\n",
       "    <tr>\n",
       "      <th>9</th>\n",
       "      <td>-0.020496</td>\n",
       "    </tr>\n",
       "    <tr>\n",
       "      <th>11</th>\n",
       "      <td>-0.029753</td>\n",
       "    </tr>\n",
       "    <tr>\n",
       "      <th>13</th>\n",
       "      <td>-0.036591</td>\n",
       "    </tr>\n",
       "    <tr>\n",
       "      <th>15</th>\n",
       "      <td>-0.044333</td>\n",
       "    </tr>\n",
       "    <tr>\n",
       "      <th>17</th>\n",
       "      <td>-0.036625</td>\n",
       "    </tr>\n",
       "    <tr>\n",
       "      <th>19</th>\n",
       "      <td>-0.034221</td>\n",
       "    </tr>\n",
       "  </tbody>\n",
       "</table>\n",
       "</div>"
      ],
      "text/plain": [
       "        beta\n",
       "W           \n",
       "5  -0.009368\n",
       "7  -0.015038\n",
       "9  -0.020496\n",
       "11 -0.029753\n",
       "13 -0.036591\n",
       "15 -0.044333\n",
       "17 -0.036625\n",
       "19 -0.034221"
      ]
     },
     "execution_count": 13,
     "metadata": {},
     "output_type": "execute_result"
    }
   ],
   "source": [
    "mean_df\n"
   ]
  },
  {
   "cell_type": "code",
   "execution_count": 12,
   "metadata": {
    "collapsed": false
   },
   "outputs": [
    {
     "data": {
      "text/html": [
       "<div>\n",
       "<table border=\"1\" class=\"dataframe\">\n",
       "  <thead>\n",
       "    <tr style=\"text-align: right;\">\n",
       "      <th></th>\n",
       "      <th>Subject</th>\n",
       "      <th>beta</th>\n",
       "    </tr>\n",
       "    <tr>\n",
       "      <th>W</th>\n",
       "      <th></th>\n",
       "      <th></th>\n",
       "    </tr>\n",
       "  </thead>\n",
       "  <tbody>\n",
       "    <tr>\n",
       "      <th>5</th>\n",
       "      <td>NaN</td>\n",
       "      <td>0.004005</td>\n",
       "    </tr>\n",
       "    <tr>\n",
       "      <th>7</th>\n",
       "      <td>NaN</td>\n",
       "      <td>0.002951</td>\n",
       "    </tr>\n",
       "    <tr>\n",
       "      <th>9</th>\n",
       "      <td>NaN</td>\n",
       "      <td>0.005390</td>\n",
       "    </tr>\n",
       "    <tr>\n",
       "      <th>11</th>\n",
       "      <td>NaN</td>\n",
       "      <td>0.006498</td>\n",
       "    </tr>\n",
       "    <tr>\n",
       "      <th>13</th>\n",
       "      <td>NaN</td>\n",
       "      <td>0.006936</td>\n",
       "    </tr>\n",
       "    <tr>\n",
       "      <th>15</th>\n",
       "      <td>NaN</td>\n",
       "      <td>0.007259</td>\n",
       "    </tr>\n",
       "    <tr>\n",
       "      <th>17</th>\n",
       "      <td>NaN</td>\n",
       "      <td>0.008514</td>\n",
       "    </tr>\n",
       "    <tr>\n",
       "      <th>19</th>\n",
       "      <td>NaN</td>\n",
       "      <td>0.010732</td>\n",
       "    </tr>\n",
       "  </tbody>\n",
       "</table>\n",
       "</div>"
      ],
      "text/plain": [
       "    Subject      beta\n",
       "W                    \n",
       "5       NaN  0.004005\n",
       "7       NaN  0.002951\n",
       "9       NaN  0.005390\n",
       "11      NaN  0.006498\n",
       "13      NaN  0.006936\n",
       "15      NaN  0.007259\n",
       "17      NaN  0.008514\n",
       "19      NaN  0.010732"
      ]
     },
     "execution_count": 12,
     "metadata": {},
     "output_type": "execute_result"
    }
   ],
   "source": [
    "sd_Df"
   ]
  },
  {
   "cell_type": "code",
   "execution_count": null,
   "metadata": {
    "collapsed": true
   },
   "outputs": [],
   "source": []
  }
 ],
 "metadata": {
  "kernelspec": {
   "display_name": "Python 2",
   "language": "python",
   "name": "python2"
  },
  "language_info": {
   "codemirror_mode": {
    "name": "ipython",
    "version": 2
   },
   "file_extension": ".py",
   "mimetype": "text/x-python",
   "name": "python",
   "nbconvert_exporter": "python",
   "pygments_lexer": "ipython2",
   "version": "2.7.11"
  }
 },
 "nbformat": 4,
 "nbformat_minor": 0
}
