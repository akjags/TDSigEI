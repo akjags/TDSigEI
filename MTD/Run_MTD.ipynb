{
 "cells": [
  {
   "cell_type": "code",
   "execution_count": 2,
   "metadata": {
    "collapsed": false
   },
   "outputs": [
    {
     "name": "stdout",
     "output_type": "stream",
     "text": [
      "Populating the interactive namespace from numpy and matplotlib\n"
     ]
    }
   ],
   "source": [
    "%pylab inline\n",
    "from __future__ import print_function, division\n",
    "import numpy as np\n",
    "import pandas as pd\n",
    "import matplotlib.pyplot as plt\n",
    "#import scipy.stats\n",
    "from MTD import *\n",
    "import brewer2mpl"
   ]
  },
  {
   "cell_type": "code",
   "execution_count": 3,
   "metadata": {
    "collapsed": false,
    "scrolled": true
   },
   "outputs": [
    {
     "data": {
      "text/html": [
       "<div>\n",
       "<table border=\"1\" class=\"dataframe\">\n",
       "  <thead>\n",
       "    <tr style=\"text-align: right;\">\n",
       "      <th></th>\n",
       "      <th>Time</th>\n",
       "      <th>Subject</th>\n",
       "      <th>Condition</th>\n",
       "      <th>Dataset</th>\n",
       "      <th>Run</th>\n",
       "      <th>FFA</th>\n",
       "      <th>PPA</th>\n",
       "      <th>VC</th>\n",
       "    </tr>\n",
       "  </thead>\n",
       "  <tbody>\n",
       "    <tr>\n",
       "      <th>0</th>\n",
       "      <td>1</td>\n",
       "      <td>512</td>\n",
       "      <td>FH</td>\n",
       "      <td>FIR</td>\n",
       "      <td>1</td>\n",
       "      <td>-0.323281</td>\n",
       "      <td>-0.044640</td>\n",
       "      <td>-0.087142</td>\n",
       "    </tr>\n",
       "    <tr>\n",
       "      <th>1</th>\n",
       "      <td>2</td>\n",
       "      <td>512</td>\n",
       "      <td>FH</td>\n",
       "      <td>FIR</td>\n",
       "      <td>1</td>\n",
       "      <td>0.129708</td>\n",
       "      <td>0.074479</td>\n",
       "      <td>-0.121480</td>\n",
       "    </tr>\n",
       "    <tr>\n",
       "      <th>2</th>\n",
       "      <td>3</td>\n",
       "      <td>512</td>\n",
       "      <td>FH</td>\n",
       "      <td>FIR</td>\n",
       "      <td>1</td>\n",
       "      <td>0.006028</td>\n",
       "      <td>-0.247733</td>\n",
       "      <td>-0.724150</td>\n",
       "    </tr>\n",
       "    <tr>\n",
       "      <th>3</th>\n",
       "      <td>4</td>\n",
       "      <td>512</td>\n",
       "      <td>FH</td>\n",
       "      <td>FIR</td>\n",
       "      <td>1</td>\n",
       "      <td>0.399678</td>\n",
       "      <td>-0.270500</td>\n",
       "      <td>-0.115669</td>\n",
       "    </tr>\n",
       "    <tr>\n",
       "      <th>4</th>\n",
       "      <td>5</td>\n",
       "      <td>512</td>\n",
       "      <td>FH</td>\n",
       "      <td>FIR</td>\n",
       "      <td>1</td>\n",
       "      <td>1.011820</td>\n",
       "      <td>-0.233612</td>\n",
       "      <td>-0.435582</td>\n",
       "    </tr>\n",
       "  </tbody>\n",
       "</table>\n",
       "</div>"
      ],
      "text/plain": [
       "   Time Subject Condition Dataset  Run       FFA       PPA        VC\n",
       "0     1     512        FH     FIR    1 -0.323281 -0.044640 -0.087142\n",
       "1     2     512        FH     FIR    1  0.129708  0.074479 -0.121480\n",
       "2     3     512        FH     FIR    1  0.006028 -0.247733 -0.724150\n",
       "3     4     512        FH     FIR    1  0.399678 -0.270500 -0.115669\n",
       "4     5     512        FH     FIR    1  1.011820 -0.233612 -0.435582"
      ]
     },
     "execution_count": 3,
     "metadata": {},
     "output_type": "execute_result"
    }
   ],
   "source": [
    "#read data\n",
    "%run dataframe_ts.py\n",
    "#TS_df = pd.read_csv('../Data/TS_FIRReg_df.csv')\n",
    "TS_df.head()"
   ]
  },
  {
   "cell_type": "code",
   "execution_count": 9,
   "metadata": {
    "collapsed": false
   },
   "outputs": [],
   "source": [
    "Subjects = [503,505,508,509,510,512,513,516,517,518,519,523,527,528,529,530,531,532,534,536,537,539,540,542,546,547,549,550]\n",
    "Conditions = ['FH', 'Fp', 'HF', 'Hp']\n",
    "#MotorMapping = [1, 2]\n",
    "corr_df = pd.DataFrame(columns=['Subj', 'Condition', 'Run','Window', 'MTD-FFA-VC', 'MTD-PPA-VC', 'corr-FFA-VC', 'corr-PPA-VC'], dtype=float)\n",
    "#'Run', 'FFA-M','FFA-NM', 'PPA-M', 'PPA-NM',\n",
    "Runs = [1, 2, 3, 4]\n",
    "#motor mapping 1, RH-Face LH-Scene\n",
    "#motor mapping 2, RH-Scene, LH-Face\n",
    "i=1\n",
    "for s, sub in enumerate(Subjects):\n",
    "    for c, cond in enumerate(Conditions):\n",
    "        for run in Runs:\n",
    "            PPA_ts = np.array(TS_df[(TS_df['Subject'] == str(sub)) & (TS_df['Condition'] == cond) & (TS_df['Run'] == run)]['PPA'])\n",
    "            FFA_ts = np.array(TS_df[(TS_df['Subject'] == str(sub)) & (TS_df['Condition'] == cond) & (TS_df['Run'] == run)]['FFA'])\n",
    "            VC_ts = np.array(TS_df[(TS_df['Subject'] == str(sub)) & (TS_df['Condition'] == cond) & (TS_df['Run'] == run)]['VC'])\n",
    "            \n",
    "            #cal coupling\n",
    "            cfv = np.corrcoef(np.array([FFA_ts, VC_ts]))[0,1]\n",
    "            cfp = np.corrcoef(np.array([PPA_ts, VC_ts]))[0,1]\n",
    "            \n",
    "            for w in np.arange(1,31):\n",
    "                corr_df.loc[i, 'Condition'] = cond\n",
    "                corr_df.loc[i, 'Subj'] = sub\n",
    "                corr_df.loc[i, 'Run'] = run\n",
    "                corr_df.loc[i, 'Window'] = w\n",
    "                corr_df.loc[i,'MTD-FFA-VC'] = np.nanmean(coupling(np.array([FFA_ts, VC_ts]).T, w)[1][:,0,1])\n",
    "                corr_df.loc[i,'MTD-PPA-VC'] = np.nanmean(coupling(np.array([PPA_ts, VC_ts]).T, w)[1][:,0,1])\n",
    "                corr_df.loc[i,'corr-FFA-VC'] = cfv\n",
    "                corr_df.loc[i,'corr-PPA-VC'] = cfp\n",
    "                i = i+1"
   ]
  },
  {
   "cell_type": "code",
   "execution_count": 10,
   "metadata": {
    "collapsed": false
   },
   "outputs": [
    {
     "data": {
      "text/html": [
       "<div>\n",
       "<table border=\"1\" class=\"dataframe\">\n",
       "  <thead>\n",
       "    <tr style=\"text-align: right;\">\n",
       "      <th></th>\n",
       "      <th>Condition</th>\n",
       "      <th>Window</th>\n",
       "      <th>Subj</th>\n",
       "      <th>Run</th>\n",
       "      <th>MTD-FFA-VC</th>\n",
       "      <th>MTD-PPA-VC</th>\n",
       "      <th>corr-FFA-VC</th>\n",
       "      <th>corr-PPA-VC</th>\n",
       "    </tr>\n",
       "  </thead>\n",
       "  <tbody>\n",
       "    <tr>\n",
       "      <th>0</th>\n",
       "      <td>FH</td>\n",
       "      <td>1</td>\n",
       "      <td>526.785714</td>\n",
       "      <td>2.5</td>\n",
       "      <td>0.238174</td>\n",
       "      <td>0.084650</td>\n",
       "      <td>0.329868</td>\n",
       "      <td>0.080267</td>\n",
       "    </tr>\n",
       "    <tr>\n",
       "      <th>1</th>\n",
       "      <td>FH</td>\n",
       "      <td>2</td>\n",
       "      <td>526.785714</td>\n",
       "      <td>2.5</td>\n",
       "      <td>0.239026</td>\n",
       "      <td>0.085216</td>\n",
       "      <td>0.329868</td>\n",
       "      <td>0.080267</td>\n",
       "    </tr>\n",
       "    <tr>\n",
       "      <th>2</th>\n",
       "      <td>FH</td>\n",
       "      <td>3</td>\n",
       "      <td>526.785714</td>\n",
       "      <td>2.5</td>\n",
       "      <td>0.239176</td>\n",
       "      <td>0.085254</td>\n",
       "      <td>0.329868</td>\n",
       "      <td>0.080267</td>\n",
       "    </tr>\n",
       "    <tr>\n",
       "      <th>3</th>\n",
       "      <td>FH</td>\n",
       "      <td>4</td>\n",
       "      <td>526.785714</td>\n",
       "      <td>2.5</td>\n",
       "      <td>0.239089</td>\n",
       "      <td>0.084455</td>\n",
       "      <td>0.329868</td>\n",
       "      <td>0.080267</td>\n",
       "    </tr>\n",
       "    <tr>\n",
       "      <th>4</th>\n",
       "      <td>FH</td>\n",
       "      <td>5</td>\n",
       "      <td>526.785714</td>\n",
       "      <td>2.5</td>\n",
       "      <td>0.238856</td>\n",
       "      <td>0.083846</td>\n",
       "      <td>0.329868</td>\n",
       "      <td>0.080267</td>\n",
       "    </tr>\n",
       "  </tbody>\n",
       "</table>\n",
       "</div>"
      ],
      "text/plain": [
       "  Condition  Window        Subj  Run  MTD-FFA-VC  MTD-PPA-VC  corr-FFA-VC  \\\n",
       "0        FH       1  526.785714  2.5    0.238174    0.084650     0.329868   \n",
       "1        FH       2  526.785714  2.5    0.239026    0.085216     0.329868   \n",
       "2        FH       3  526.785714  2.5    0.239176    0.085254     0.329868   \n",
       "3        FH       4  526.785714  2.5    0.239089    0.084455     0.329868   \n",
       "4        FH       5  526.785714  2.5    0.238856    0.083846     0.329868   \n",
       "\n",
       "   corr-PPA-VC  \n",
       "0     0.080267  \n",
       "1     0.080267  \n",
       "2     0.080267  \n",
       "3     0.080267  \n",
       "4     0.080267  "
      ]
     },
     "execution_count": 10,
     "metadata": {},
     "output_type": "execute_result"
    }
   ],
   "source": [
    "stat_df = corr_df.groupby(['Subj','Condition','Window']).mean().reset_index()\n",
    "#stat_df.head()\n",
    "\n",
    "mean_df = stat_df.groupby(['Condition','Window']).mean().reset_index()\n",
    "sem_df = stat_df.groupby(['Condition','Window']).sem().reset_index()\n",
    "mean_df.head()\n",
    "#sem_df.head()"
   ]
  },
  {
   "cell_type": "code",
   "execution_count": 13,
   "metadata": {
    "collapsed": false,
    "scrolled": true
   },
   "outputs": [
    {
     "data": {
      "text/plain": [
       "<matplotlib.figure.Figure at 0x7fc5ddac4410>"
      ]
     },
     "metadata": {},
     "output_type": "display_data"
    },
    {
     "data": {
      "image/png": "[encoded data removed]",
      "text/plain": [
       "<matplotlib.figure.Figure at 0x7fc5dddd7850>"
      ]
     },
     "metadata": {},
     "output_type": "display_data"
    }
   ],
   "source": [
    "plt.rc('xtick', labelsize=20)  \n",
    "plt.rc('ytick', labelsize=20) \n",
    "ROIpairs = ['MTD-FFA-VC', 'MTD-PPA-VC','corr-FFA-VC', 'corr-PPA-VC']\n",
    "Conditions =['FH', 'Fp', 'Hp', 'HF']\n",
    "Labels = ['Face with scene distractor', 'Passively viewing faces ', 'Passively viewing scenes', 'Scene with face distractor']\n",
    "x = np.arange(1,31)\n",
    "#get colormap\n",
    "cmap = brewer2mpl.get_map('RdBu','diverging', 4)\n",
    "plt.figure(1)\n",
    "plt.figure(figsize=(24,5))\n",
    "for r, roi in enumerate(ROIpairs):\n",
    "    plt.subplot(1, 4, r+1)\n",
    "    \n",
    "    for i, c in enumerate(Conditions):\n",
    "        y = np.array(mean_df[(mean_df['Condition'] == c)][roi])\n",
    "        error = np.array(sem_df[(mean_df['Condition'] == c)][roi])\n",
    "        plt.plot(x, y, color = cmap.hex_colors[i], linewidth=2  )\n",
    "       \n",
    "        #plt.fill_between(x, y-1*error, y+1*error, alpha=0.2, edgecolor=cmap.hex_colors[i], \n",
    "        #             facecolor=cmap.hex_colors[i], label=c)\n",
    "\n",
    "        plt.ylim(0,0.4)\n",
    "        plt.xlim(1, 31)\n",
    "        plt.xlabel(roi)\n",
    "plt.legend(Labels)\n",
    "plt.show()"
   ]
  },
  {
   "cell_type": "code",
   "execution_count": null,
   "metadata": {
    "collapsed": false
   },
   "outputs": [],
   "source": []
  },
  {
   "cell_type": "code",
   "execution_count": null,
   "metadata": {
    "collapsed": true
   },
   "outputs": [],
   "source": []
  },
  {
   "cell_type": "code",
   "execution_count": null,
   "metadata": {
    "collapsed": true
   },
   "outputs": [],
   "source": []
  }
 ],
 "metadata": {
  "kernelspec": {
   "display_name": "Python 2",
   "language": "python",
   "name": "python2"
  },
  "language_info": {
   "codemirror_mode": {
    "name": "ipython",
    "version": 2
   },
   "file_extension": ".py",
   "mimetype": "text/x-python",
   "name": "python",
   "nbconvert_exporter": "python",
   "pygments_lexer": "ipython2",
   "version": "2.7.11"
  }
 },
 "nbformat": 4,
 "nbformat_minor": 0
}
