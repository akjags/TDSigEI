{
 "cells": [
  {
   "cell_type": "code",
   "execution_count": 1,
   "metadata": {
    "collapsed": false
   },
   "outputs": [
    {
     "name": "stdout",
     "output_type": "stream",
     "text": [
      "Populating the interactive namespace from numpy and matplotlib\n"
     ]
    }
   ],
   "source": [
    "%pylab inline\n",
    "from __future__ import print_function, division\n",
    "import numpy as np\n",
    "import pandas as pd\n",
    "import matplotlib.pyplot as plt\n",
    "#import scipy.stats\n",
    "from MTD import *"
   ]
  },
  {
   "cell_type": "code",
   "execution_count": 22,
   "metadata": {
    "collapsed": false,
    "scrolled": true
   },
   "outputs": [
    {
     "data": {
      "text/html": [
       "<div>\n",
       "<table border=\"1\" class=\"dataframe\">\n",
       "  <thead>\n",
       "    <tr style=\"text-align: right;\">\n",
       "      <th></th>\n",
       "      <th>Unnamed: 0</th>\n",
       "      <th>Time</th>\n",
       "      <th>Subject</th>\n",
       "      <th>Condition</th>\n",
       "      <th>MotorMapping</th>\n",
       "      <th>Run</th>\n",
       "      <th>FFA</th>\n",
       "      <th>PPA</th>\n",
       "      <th>RH</th>\n",
       "      <th>LH</th>\n",
       "      <th>PrimVis</th>\n",
       "    </tr>\n",
       "  </thead>\n",
       "  <tbody>\n",
       "    <tr>\n",
       "      <th>0</th>\n",
       "      <td>0</td>\n",
       "      <td>1</td>\n",
       "      <td>512</td>\n",
       "      <td>FH</td>\n",
       "      <td>1</td>\n",
       "      <td>1</td>\n",
       "      <td>-0.216313</td>\n",
       "      <td>-0.001642</td>\n",
       "      <td>-0.307158</td>\n",
       "      <td>-0.168332</td>\n",
       "      <td>0.116184</td>\n",
       "    </tr>\n",
       "    <tr>\n",
       "      <th>1</th>\n",
       "      <td>1</td>\n",
       "      <td>2</td>\n",
       "      <td>512</td>\n",
       "      <td>FH</td>\n",
       "      <td>1</td>\n",
       "      <td>1</td>\n",
       "      <td>0.136759</td>\n",
       "      <td>0.199656</td>\n",
       "      <td>0.016624</td>\n",
       "      <td>-0.014293</td>\n",
       "      <td>-0.461675</td>\n",
       "    </tr>\n",
       "    <tr>\n",
       "      <th>2</th>\n",
       "      <td>2</td>\n",
       "      <td>3</td>\n",
       "      <td>512</td>\n",
       "      <td>FH</td>\n",
       "      <td>1</td>\n",
       "      <td>1</td>\n",
       "      <td>0.246782</td>\n",
       "      <td>-0.404403</td>\n",
       "      <td>0.523913</td>\n",
       "      <td>-0.244285</td>\n",
       "      <td>-0.218928</td>\n",
       "    </tr>\n",
       "    <tr>\n",
       "      <th>3</th>\n",
       "      <td>3</td>\n",
       "      <td>4</td>\n",
       "      <td>512</td>\n",
       "      <td>FH</td>\n",
       "      <td>1</td>\n",
       "      <td>1</td>\n",
       "      <td>0.169414</td>\n",
       "      <td>-0.446037</td>\n",
       "      <td>0.100451</td>\n",
       "      <td>-0.270053</td>\n",
       "      <td>0.047486</td>\n",
       "    </tr>\n",
       "    <tr>\n",
       "      <th>4</th>\n",
       "      <td>4</td>\n",
       "      <td>5</td>\n",
       "      <td>512</td>\n",
       "      <td>FH</td>\n",
       "      <td>1</td>\n",
       "      <td>1</td>\n",
       "      <td>0.444998</td>\n",
       "      <td>-0.459969</td>\n",
       "      <td>-0.089444</td>\n",
       "      <td>-0.324911</td>\n",
       "      <td>-0.404509</td>\n",
       "    </tr>\n",
       "  </tbody>\n",
       "</table>\n",
       "</div>"
      ],
      "text/plain": [
       "   Unnamed: 0  Time  Subject Condition  MotorMapping  Run       FFA       PPA  \\\n",
       "0           0     1      512        FH             1    1 -0.216313 -0.001642   \n",
       "1           1     2      512        FH             1    1  0.136759  0.199656   \n",
       "2           2     3      512        FH             1    1  0.246782 -0.404403   \n",
       "3           3     4      512        FH             1    1  0.169414 -0.446037   \n",
       "4           4     5      512        FH             1    1  0.444998 -0.459969   \n",
       "\n",
       "         RH        LH   PrimVis  \n",
       "0 -0.307158 -0.168332  0.116184  \n",
       "1  0.016624 -0.014293 -0.461675  \n",
       "2  0.523913 -0.244285 -0.218928  \n",
       "3  0.100451 -0.270053  0.047486  \n",
       "4 -0.089444 -0.324911 -0.404509  "
      ]
     },
     "execution_count": 22,
     "metadata": {},
     "output_type": "execute_result"
    }
   ],
   "source": [
    "#read data\n",
    "#%run SC_dataframe.py\n",
    "TS_df = pd.read_csv('../Data/TS_FIRReg_df.csv')\n",
    "TS_df.head()"
   ]
  },
  {
   "cell_type": "code",
   "execution_count": 24,
   "metadata": {
    "collapsed": false
   },
   "outputs": [],
   "source": [
    "Subjects = [503,505,508,509,510,512,513,516,517,518,519,523,527,528,529,530,531,532,534,536,537,539,540,542,546,547,549,550]\n",
    "Conditions = ['FH', 'Fo', 'Fp', 'HF', 'Ho', 'Hp']\n",
    "MotorMapping = [1, 2]\n",
    "corr_df = pd.DataFrame(columns=['Subj', 'Condition', 'FFA-VC', 'PPA-VC'], dtype=float)\n",
    "#'Run', 'FFA-M','FFA-NM', 'PPA-M', 'PPA-NM',\n",
    "Runs = [1, 2]\n",
    "#motor mapping 1, RH-Face LH-Scene\n",
    "#motor mapping 2, RH-Scene, LH-Face\n",
    "i=1\n",
    "for s, sub in enumerate(Subjects):\n",
    "    for c, cond in enumerate(Conditions):\n",
    "        for m, motormap in enumerate(MotorMapping):\n",
    "            for run in Runs:\n",
    "                PPA_ts = np.array(TS_df[(TS_df['Subject'] == sub) & (TS_df['Condition'] == cond) & (TS_df['MotorMapping'] == motormap) & (TS_df['Run'] == run)]['PPA'])\n",
    "                FFA_ts = np.array(TS_df[(TS_df['Subject'] == sub) & (TS_df['Condition'] == cond) & (TS_df['MotorMapping'] == motormap) & (TS_df['Run'] == run)]['FFA'])\n",
    "                #RH_ts = np.array(TS_df[(TS_df['Subject'] == sub) & (TS_df['Condition'] == cond) & (TS_df['MotorMapping'] == motormap) & (TS_df['Run'] == run)]['RH'])\n",
    "                #LH_ts = np.array(TS_df[(TS_df['Subject'] == sub) & (TS_df['Condition'] == cond) & (TS_df['MotorMapping'] == motormap) & (TS_df['Run'] == run)]['LH'])\n",
    "                VC_ts = np.array(TS_df[(TS_df['Subject'] == sub) & (TS_df['Condition'] == cond) & (TS_df['MotorMapping'] == motormap) & (TS_df['Run'] == run)]['PrimVis'])\n",
    "                #FFA_ts[FFA_ts==0] = np.nan \n",
    "                #PPA_ts[PPA_ts==0] = np.nan\n",
    "                #FFA_ts = np.ma.array(FFA_ts, mask=np.isnan(FFA_ts))\n",
    "                #PPA_ts = np.ma.array(PPA_ts, mask=np.isnan(PPA_ts))\n",
    "                #RH_ts[RH_ts==0] = np.nan \n",
    "                #LH_ts[LH_ts==0] = np.nan\n",
    "                #RH_ts = np.ma.array(RH_ts, mask=np.isnan(RH_ts))\n",
    "                #LH_ts = np.ma.array(LH_ts, mask=np.isnan(LH_ts))\n",
    "                #VC_ts[VC_ts==0] = np.nan\n",
    "                #VC_ts = np.ma.array(VC_ts, mask=np.isnan(VC_ts))\n",
    "\n",
    "\n",
    "                corr_df.loc[i, 'Condition'] = cond\n",
    "                corr_df.loc[i, 'Subj'] = sub\n",
    "                corr_df.loc[i, 'Run'] = run\n",
    "                #calculate visual coupling\n",
    "                corr_df.loc[i,'FFA-VC'] = np.corrcoef(VC_ts, FFA_ts)[0,1]\n",
    "                corr_df.loc[i,'PPA-VC'] = np.corrcoef(VC_ts, PPA_ts)[0,1]\n",
    "                #corr_df.loc[i,'FFA-VC'] = np.nanmean(coupling(np.array([FFA_ts, VC_ts]).T, 10)[1][:,0,1])\n",
    "                #corr_df.loc[i,'PPA-VC'] = np.nanmean(coupling(np.array([PPA_ts, VC_ts]).T, 10)[1][:,0,1])\n",
    "\n",
    "                ## calculate visual motor mapping\n",
    "                #if motormap == 1: \n",
    "                #    #motor mapping 1, RH-Face LH-Scene\n",
    "                #    corr_df.loc[i,'FFA-M'] = np.nanmean(coupling(np.array([FFA_ts, RH_ts]).T, 10)[1][:,0,1])\n",
    "                #    corr_df.loc[i,'FFA-NM'] = np.nanmean(coupling(np.array([FFA_ts, LH_ts]).T, 10)[1][:,0,1])\n",
    "                #    corr_df.loc[i,'PPA-M'] = np.nanmean(coupling(np.array([PPA_ts, LH_ts]).T, 10)[1][:,0,1])\n",
    "                #    corr_df.loc[i,'PPA-NM'] = np.nanmean(coupling(np.array([PPA_ts, RH_ts]).T, 10)[1][:,0,1])\n",
    "                #if motormap == 2:\n",
    "                #    #motor mapping 2, RH-Scene, LH-Face\n",
    "                #    corr_df.loc[i,'FFA-M'] = np.nanmean(coupling(np.array([FFA_ts, LH_ts]).T, 10)[1][:,0,1])\n",
    "                #    corr_df.loc[i,'FFA-NM'] = np.nanmean(coupling(np.array([FFA_ts, RH_ts]).T, 10)[1][:,0,1])\n",
    "                #    corr_df.loc[i,'PPA-M'] = np.nanmean(coupling(np.array([PPA_ts, RH_ts]).T, 10)[1][:,0,1])\n",
    "                #    corr_df.loc[i,'PPA-NM'] = np.nanmean(coupling(np.array([PPA_ts, LH_ts]).T, 10)[1][:,0,1])\n",
    "                i = i+1"
   ]
  },
  {
   "cell_type": "code",
   "execution_count": 34,
   "metadata": {
    "collapsed": false
   },
   "outputs": [
    {
     "data": {
      "text/html": [
       "<div>\n",
       "<table border=\"1\" class=\"dataframe\">\n",
       "  <thead>\n",
       "    <tr style=\"text-align: right;\">\n",
       "      <th></th>\n",
       "      <th>Subj</th>\n",
       "      <th>FFA-VC</th>\n",
       "      <th>PPA-VC</th>\n",
       "      <th>Run</th>\n",
       "    </tr>\n",
       "    <tr>\n",
       "      <th>Condition</th>\n",
       "      <th></th>\n",
       "      <th></th>\n",
       "      <th></th>\n",
       "      <th></th>\n",
       "    </tr>\n",
       "  </thead>\n",
       "  <tbody>\n",
       "    <tr>\n",
       "      <th>FH</th>\n",
       "      <td>526.785714</td>\n",
       "      <td>0.206254</td>\n",
       "      <td>0.294496</td>\n",
       "      <td>1.5</td>\n",
       "    </tr>\n",
       "    <tr>\n",
       "      <th>Fo</th>\n",
       "      <td>526.785714</td>\n",
       "      <td>0.177241</td>\n",
       "      <td>0.266814</td>\n",
       "      <td>1.5</td>\n",
       "    </tr>\n",
       "    <tr>\n",
       "      <th>Fp</th>\n",
       "      <td>526.785714</td>\n",
       "      <td>0.164877</td>\n",
       "      <td>0.293604</td>\n",
       "      <td>1.5</td>\n",
       "    </tr>\n",
       "    <tr>\n",
       "      <th>HF</th>\n",
       "      <td>526.785714</td>\n",
       "      <td>0.201086</td>\n",
       "      <td>0.271741</td>\n",
       "      <td>1.5</td>\n",
       "    </tr>\n",
       "    <tr>\n",
       "      <th>Ho</th>\n",
       "      <td>526.785714</td>\n",
       "      <td>0.183083</td>\n",
       "      <td>0.276189</td>\n",
       "      <td>1.5</td>\n",
       "    </tr>\n",
       "    <tr>\n",
       "      <th>Hp</th>\n",
       "      <td>526.785714</td>\n",
       "      <td>0.174207</td>\n",
       "      <td>0.284220</td>\n",
       "      <td>1.5</td>\n",
       "    </tr>\n",
       "  </tbody>\n",
       "</table>\n",
       "</div>"
      ],
      "text/plain": [
       "                 Subj    FFA-VC    PPA-VC  Run\n",
       "Condition                                     \n",
       "FH         526.785714  0.206254  0.294496  1.5\n",
       "Fo         526.785714  0.177241  0.266814  1.5\n",
       "Fp         526.785714  0.164877  0.293604  1.5\n",
       "HF         526.785714  0.201086  0.271741  1.5\n",
       "Ho         526.785714  0.183083  0.276189  1.5\n",
       "Hp         526.785714  0.174207  0.284220  1.5"
      ]
     },
     "execution_count": 34,
     "metadata": {},
     "output_type": "execute_result"
    }
   ],
   "source": [
    "corr_df.groupby(['Condition','Subj']).mean().reset_index().groupby(['Condition']).mean()"
   ]
  },
  {
   "cell_type": "code",
   "execution_count": 83,
   "metadata": {
    "collapsed": false
   },
   "outputs": [
    {
     "data": {
      "text/html": [
       "<div>\n",
       "<table border=\"1\" class=\"dataframe\">\n",
       "  <thead>\n",
       "    <tr style=\"text-align: right;\">\n",
       "      <th></th>\n",
       "      <th>Subj</th>\n",
       "      <th>Run</th>\n",
       "      <th>FFA-M</th>\n",
       "      <th>FFA-NM</th>\n",
       "      <th>PPA-M</th>\n",
       "      <th>PPA-NM</th>\n",
       "      <th>FFA-VC</th>\n",
       "      <th>PPA-VC</th>\n",
       "    </tr>\n",
       "    <tr>\n",
       "      <th>Condition</th>\n",
       "      <th></th>\n",
       "      <th></th>\n",
       "      <th></th>\n",
       "      <th></th>\n",
       "      <th></th>\n",
       "      <th></th>\n",
       "      <th></th>\n",
       "      <th></th>\n",
       "    </tr>\n",
       "  </thead>\n",
       "  <tbody>\n",
       "    <tr>\n",
       "      <th>FH</th>\n",
       "      <td>526.785714</td>\n",
       "      <td>1.5</td>\n",
       "      <td>-0.118522</td>\n",
       "      <td>-0.099162</td>\n",
       "      <td>-0.068450</td>\n",
       "      <td>-0.048193</td>\n",
       "      <td>0.077902</td>\n",
       "      <td>0.491228</td>\n",
       "    </tr>\n",
       "    <tr>\n",
       "      <th>Fo</th>\n",
       "      <td>526.785714</td>\n",
       "      <td>1.5</td>\n",
       "      <td>-0.081169</td>\n",
       "      <td>-0.078097</td>\n",
       "      <td>-0.049739</td>\n",
       "      <td>-0.021802</td>\n",
       "      <td>0.140745</td>\n",
       "      <td>0.408863</td>\n",
       "    </tr>\n",
       "    <tr>\n",
       "      <th>Fp</th>\n",
       "      <td>526.785714</td>\n",
       "      <td>1.5</td>\n",
       "      <td>-0.038587</td>\n",
       "      <td>-0.087968</td>\n",
       "      <td>-0.045023</td>\n",
       "      <td>-0.036335</td>\n",
       "      <td>0.058924</td>\n",
       "      <td>0.416128</td>\n",
       "    </tr>\n",
       "    <tr>\n",
       "      <th>HF</th>\n",
       "      <td>526.785714</td>\n",
       "      <td>1.5</td>\n",
       "      <td>-0.175154</td>\n",
       "      <td>-0.134012</td>\n",
       "      <td>-0.022809</td>\n",
       "      <td>-0.043906</td>\n",
       "      <td>0.175530</td>\n",
       "      <td>0.466436</td>\n",
       "    </tr>\n",
       "    <tr>\n",
       "      <th>Ho</th>\n",
       "      <td>526.785714</td>\n",
       "      <td>1.5</td>\n",
       "      <td>-0.113325</td>\n",
       "      <td>-0.092643</td>\n",
       "      <td>-0.104893</td>\n",
       "      <td>-0.096817</td>\n",
       "      <td>0.134130</td>\n",
       "      <td>0.482391</td>\n",
       "    </tr>\n",
       "    <tr>\n",
       "      <th>Hp</th>\n",
       "      <td>526.785714</td>\n",
       "      <td>1.5</td>\n",
       "      <td>-0.048236</td>\n",
       "      <td>-0.013395</td>\n",
       "      <td>-0.035085</td>\n",
       "      <td>-0.040969</td>\n",
       "      <td>0.060592</td>\n",
       "      <td>0.470883</td>\n",
       "    </tr>\n",
       "  </tbody>\n",
       "</table>\n",
       "</div>"
      ],
      "text/plain": [
       "                 Subj  Run     FFA-M    FFA-NM     PPA-M    PPA-NM    FFA-VC  \\\n",
       "Condition                                                                      \n",
       "FH         526.785714  1.5 -0.118522 -0.099162 -0.068450 -0.048193  0.077902   \n",
       "Fo         526.785714  1.5 -0.081169 -0.078097 -0.049739 -0.021802  0.140745   \n",
       "Fp         526.785714  1.5 -0.038587 -0.087968 -0.045023 -0.036335  0.058924   \n",
       "HF         526.785714  1.5 -0.175154 -0.134012 -0.022809 -0.043906  0.175530   \n",
       "Ho         526.785714  1.5 -0.113325 -0.092643 -0.104893 -0.096817  0.134130   \n",
       "Hp         526.785714  1.5 -0.048236 -0.013395 -0.035085 -0.040969  0.060592   \n",
       "\n",
       "             PPA-VC  \n",
       "Condition            \n",
       "FH         0.491228  \n",
       "Fo         0.408863  \n",
       "Fp         0.416128  \n",
       "HF         0.466436  \n",
       "Ho         0.482391  \n",
       "Hp         0.470883  "
      ]
     },
     "execution_count": 83,
     "metadata": {},
     "output_type": "execute_result"
    }
   ],
   "source": [
    "corr_df.groupby('Condition').mean()"
   ]
  },
  {
   "cell_type": "code",
   "execution_count": null,
   "metadata": {
    "collapsed": true
   },
   "outputs": [],
   "source": []
  },
  {
   "cell_type": "code",
   "execution_count": 84,
   "metadata": {
    "collapsed": false
   },
   "outputs": [
    {
     "data": {
      "text/plain": [
       "[<matplotlib.lines.Line2D at 0x10d72b6d0>]"
      ]
     },
     "execution_count": 84,
     "metadata": {},
     "output_type": "execute_result"
    },
    {
     "data": {
      "image/png": "[encoded data removed]",
      "text/plain": [
       "<matplotlib.figure.Figure at 0x10d765e50>"
      ]
     },
     "metadata": {},
     "output_type": "display_data"
    }
   ],
   "source": [
    "plt.plot(FFA_ts)"
   ]
  },
  {
   "cell_type": "code",
   "execution_count": null,
   "metadata": {
    "collapsed": true
   },
   "outputs": [],
   "source": []
  }
 ],
 "metadata": {
  "kernelspec": {
   "display_name": "Python 2",
   "language": "python",
   "name": "python2"
  },
  "language_info": {
   "codemirror_mode": {
    "name": "ipython",
    "version": 2
   },
   "file_extension": ".py",
   "mimetype": "text/x-python",
   "name": "python",
   "nbconvert_exporter": "python",
   "pygments_lexer": "ipython2",
   "version": "2.7.11"
  }
 },
 "nbformat": 4,
 "nbformat_minor": 0
}
