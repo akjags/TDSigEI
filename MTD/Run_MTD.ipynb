{
 "cells": [
  {
   "cell_type": "code",
   "execution_count": 20,
   "metadata": {
    "collapsed": false
   },
   "outputs": [
    {
     "name": "stdout",
     "output_type": "stream",
     "text": [
      "Populating the interactive namespace from numpy and matplotlib\n"
     ]
    },
    {
     "name": "stderr",
     "output_type": "stream",
     "text": [
      "WARNING: pylab import has clobbered these variables: ['cond']\n",
      "`%matplotlib` prevents importing * from pylab and numpy\n"
     ]
    }
   ],
   "source": [
    "%pylab inline\n",
    "from __future__ import print_function, division\n",
    "import numpy as np\n",
    "import pandas as pd\n",
    "import matplotlib.pyplot as plt\n",
    "#import scipy.stats\n",
    "from MTD import *"
   ]
  },
  {
   "cell_type": "code",
   "execution_count": 71,
   "metadata": {
    "collapsed": false,
    "scrolled": true
   },
   "outputs": [
    {
     "data": {
      "text/html": [
       "<div>\n",
       "<table border=\"1\" class=\"dataframe\">\n",
       "  <thead>\n",
       "    <tr style=\"text-align: right;\">\n",
       "      <th></th>\n",
       "      <th>Unnamed: 0</th>\n",
       "      <th>Time</th>\n",
       "      <th>Subject</th>\n",
       "      <th>Condition</th>\n",
       "      <th>MotorMapping</th>\n",
       "      <th>Run</th>\n",
       "      <th>FFA</th>\n",
       "      <th>PPA</th>\n",
       "      <th>RH</th>\n",
       "      <th>LH</th>\n",
       "      <th>PrimVis</th>\n",
       "    </tr>\n",
       "  </thead>\n",
       "  <tbody>\n",
       "    <tr>\n",
       "      <th>0</th>\n",
       "      <td>0</td>\n",
       "      <td>1</td>\n",
       "      <td>512</td>\n",
       "      <td>FH</td>\n",
       "      <td>1</td>\n",
       "      <td>1</td>\n",
       "      <td>-0.400275</td>\n",
       "      <td>0.084878</td>\n",
       "      <td>-0.002944</td>\n",
       "      <td>0.270983</td>\n",
       "      <td>-0.021890</td>\n",
       "    </tr>\n",
       "    <tr>\n",
       "      <th>1</th>\n",
       "      <td>1</td>\n",
       "      <td>2</td>\n",
       "      <td>512</td>\n",
       "      <td>FH</td>\n",
       "      <td>1</td>\n",
       "      <td>1</td>\n",
       "      <td>0.000000</td>\n",
       "      <td>0.000000</td>\n",
       "      <td>0.000000</td>\n",
       "      <td>0.000000</td>\n",
       "      <td>0.000000</td>\n",
       "    </tr>\n",
       "    <tr>\n",
       "      <th>2</th>\n",
       "      <td>2</td>\n",
       "      <td>3</td>\n",
       "      <td>512</td>\n",
       "      <td>FH</td>\n",
       "      <td>1</td>\n",
       "      <td>1</td>\n",
       "      <td>0.000000</td>\n",
       "      <td>0.000000</td>\n",
       "      <td>0.000000</td>\n",
       "      <td>0.000000</td>\n",
       "      <td>0.000000</td>\n",
       "    </tr>\n",
       "    <tr>\n",
       "      <th>3</th>\n",
       "      <td>3</td>\n",
       "      <td>4</td>\n",
       "      <td>512</td>\n",
       "      <td>FH</td>\n",
       "      <td>1</td>\n",
       "      <td>1</td>\n",
       "      <td>-0.579103</td>\n",
       "      <td>0.311488</td>\n",
       "      <td>0.056384</td>\n",
       "      <td>0.088554</td>\n",
       "      <td>0.016725</td>\n",
       "    </tr>\n",
       "    <tr>\n",
       "      <th>4</th>\n",
       "      <td>4</td>\n",
       "      <td>5</td>\n",
       "      <td>512</td>\n",
       "      <td>FH</td>\n",
       "      <td>1</td>\n",
       "      <td>1</td>\n",
       "      <td>-0.051745</td>\n",
       "      <td>0.210661</td>\n",
       "      <td>0.110443</td>\n",
       "      <td>0.208945</td>\n",
       "      <td>-0.103424</td>\n",
       "    </tr>\n",
       "  </tbody>\n",
       "</table>\n",
       "</div>"
      ],
      "text/plain": [
       "   Unnamed: 0  Time  Subject Condition  MotorMapping  Run       FFA       PPA  \\\n",
       "0           0     1      512        FH             1    1 -0.400275  0.084878   \n",
       "1           1     2      512        FH             1    1  0.000000  0.000000   \n",
       "2           2     3      512        FH             1    1  0.000000  0.000000   \n",
       "3           3     4      512        FH             1    1 -0.579103  0.311488   \n",
       "4           4     5      512        FH             1    1 -0.051745  0.210661   \n",
       "\n",
       "         RH        LH   PrimVis  \n",
       "0 -0.002944  0.270983 -0.021890  \n",
       "1  0.000000  0.000000  0.000000  \n",
       "2  0.000000  0.000000  0.000000  \n",
       "3  0.056384  0.088554  0.016725  \n",
       "4  0.110443  0.208945 -0.103424  "
      ]
     },
     "execution_count": 71,
     "metadata": {},
     "output_type": "execute_result"
    }
   ],
   "source": [
    "#read data\n",
    "#%run SC_dataframe.py\n",
    "TS_df = pd.read_csv('../Data/TS_NuisanceReg_df.csv')\n",
    "TS_df.head()"
   ]
  },
  {
   "cell_type": "code",
   "execution_count": 78,
   "metadata": {
    "collapsed": false
   },
   "outputs": [],
   "source": [
    "Subjects = [503,505,508,509,510,512,513,516,517,518,519,523,527,528,529,530,531,532,534,536,537,539,540,542,546,547,549,550]\n",
    "Conditions = ['FH', 'Fo', 'Fp', 'HF', 'Ho', 'Hp']\n",
    "MotorMapping = [1, 2]\n",
    "corr_df = pd.DataFrame(columns=['Subj', 'Condition', 'FFA-M','FFA-NM', 'PPA-M', 'PPA-NM', 'FFA-VC', 'PPA-VC'], dtype=float)\n",
    "#motor mapping 1, RH-Face LH-Scene\n",
    "#motor mapping 2, RH-Scene, LH-Face\n",
    "i=1\n",
    "for s, sub in enumerate(Subjects):\n",
    "    for c, cond in enumerate(Conditions):\n",
    "        for m, motormap in enumerate(MotorMapping):\n",
    "            PPA_ts = np.array(TS_df[(TS_df['Subject'] == sub) & (TS_df['Condition'] == cond) & (TS_df['MotorMapping'] == motormap)]['PPA'])\n",
    "            FFA_ts = np.array(TS_df[(TS_df['Subject'] == sub) & (TS_df['Condition'] == cond) & (TS_df['MotorMapping'] == motormap)]['FFA'])\n",
    "            RH_ts = np.array(TS_df[(TS_df['Subject'] == sub) & (TS_df['Condition'] == cond) & (TS_df['MotorMapping'] == motormap)]['RH'])\n",
    "            LH_ts = np.array(TS_df[(TS_df['Subject'] == sub) & (TS_df['Condition'] == cond) & (TS_df['MotorMapping'] == motormap)]['LH'])\n",
    "            VC_ts = np.array(TS_df[(TS_df['Subject'] == sub) & (TS_df['Condition'] == cond) & (TS_df['MotorMapping'] == motormap)]['PrimVis'])\n",
    "            FFA_ts[FFA_ts==0] = np.nan \n",
    "            PPA_ts[PPA_ts==0] = np.nan\n",
    "            FFA_ts = np.ma.array(FFA_ts, mask=np.isnan(FFA_ts))\n",
    "            PPA_ts = np.ma.array(PPA_ts, mask=np.isnan(PPA_ts))\n",
    "            RH_ts[RH_ts==0] = np.nan \n",
    "            LH_ts[LH_ts==0] = np.nan\n",
    "            RH_ts = np.ma.array(RH_ts, mask=np.isnan(RH_ts))\n",
    "            LH_ts = np.ma.array(LH_ts, mask=np.isnan(LH_ts))\n",
    "            VC_ts[VC_ts==0] = np.nan\n",
    "            VC_ts = np.ma.array(VC_ts, mask=np.isnan(VC_ts))\n",
    "            \n",
    "            \n",
    "            corr_df.loc[i, 'Condition'] = cond\n",
    "            corr_df.loc[i, 'Subj'] = sub\n",
    "            \n",
    "            #calculate visual coupling\n",
    "            corr_df.loc[i,'FFA-VC'] = np.nanmean(coupling(np.array([FFA_ts, VC_ts]).T, 10)[1][:,0,1])\n",
    "            corr_df.loc[i,'PPA-VC'] = np.nanmean(coupling(np.array([PPA_ts, VC_ts]).T, 10)[1][:,0,1])\n",
    "            \n",
    "            ## calculate visual motor mapping\n",
    "            if motormap == 1: \n",
    "                #motor mapping 1, RH-Face LH-Scene\n",
    "                corr_df.loc[i,'FFA-M'] = np.nanmean(coupling(np.array([FFA_ts, RH_ts]).T, 10)[1][:,0,1])\n",
    "                corr_df.loc[i,'FFA-NM'] = np.nanmean(coupling(np.array([FFA_ts, LH_ts]).T, 10)[1][:,0,1])\n",
    "                corr_df.loc[i,'PPA-M'] = np.nanmean(coupling(np.array([PPA_ts, LH_ts]).T, 10)[1][:,0,1])\n",
    "                corr_df.loc[i,'PPA-NM'] = np.nanmean(coupling(np.array([PPA_ts, RH_ts]).T, 10)[1][:,0,1])\n",
    "            if motormap == 2:\n",
    "                #motor mapping 2, RH-Scene, LH-Face\n",
    "                corr_df.loc[i,'FFA-M'] = np.nanmean(coupling(np.array([FFA_ts, LH_ts]).T, 10)[1][:,0,1])\n",
    "                corr_df.loc[i,'FFA-NM'] = np.nanmean(coupling(np.array([FFA_ts, RH_ts]).T, 10)[1][:,0,1])\n",
    "                corr_df.loc[i,'PPA-M'] = np.nanmean(coupling(np.array([PPA_ts, RH_ts]).T, 10)[1][:,0,1])\n",
    "                corr_df.loc[i,'PPA-NM'] = np.nanmean(coupling(np.array([PPA_ts, LH_ts]).T, 10)[1][:,0,1])\n",
    "            i = i+1"
   ]
  },
  {
   "cell_type": "code",
   "execution_count": 80,
   "metadata": {
    "collapsed": false
   },
   "outputs": [],
   "source": [
    "#corr_df.groupby('Condition').mean()"
   ]
  },
  {
   "cell_type": "code",
   "execution_count": 77,
   "metadata": {
    "collapsed": false
   },
   "outputs": [
    {
     "data": {
      "text/plain": [
       "[<matplotlib.lines.Line2D at 0x10a9bc3d0>]"
      ]
     },
     "execution_count": 77,
     "metadata": {},
     "output_type": "execute_result"
    },
    {
     "data": {
      "image/png": "[encoded data removed]",
      "text/plain": [
       "<matplotlib.figure.Figure at 0x10a97a090>"
      ]
     },
     "metadata": {},
     "output_type": "display_data"
    }
   ],
   "source": [
    "plt.plot(FFA_ts)"
   ]
  },
  {
   "cell_type": "code",
   "execution_count": null,
   "metadata": {
    "collapsed": true
   },
   "outputs": [],
   "source": []
  }
 ],
 "metadata": {
  "kernelspec": {
   "display_name": "Python 2",
   "language": "python",
   "name": "python2"
  },
  "language_info": {
   "codemirror_mode": {
    "name": "ipython",
    "version": 2
   },
   "file_extension": ".py",
   "mimetype": "text/x-python",
   "name": "python",
   "nbconvert_exporter": "python",
   "pygments_lexer": "ipython2",
   "version": "2.7.11"
  }
 },
 "nbformat": 4,
 "nbformat_minor": 0
}
